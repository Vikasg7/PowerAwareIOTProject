{
 "cells": [
  {
   "cell_type": "code",
   "execution_count": null,
   "metadata": {},
   "outputs": [],
   "source": [
    "from power_aware_iot import *\n",
    "\n",
    "csv_to_binary_file(\"input/data.csv\", \"input/frames.bin\")\n",
    "frames  = generate_frames_from_binary(\"input/frames.bin\")\n",
    "sample  = frames[0:24] # Frames received on the first day\n",
    "algo    = Algorithm.train(sample)\n",
    "essentials, signals = simulate_network_layer(frames, algo)\n",
    "scatter_plot(frames, essentials, signals)"
   ]
  }
 ],
 "metadata": {
  "kernelspec": {
   "display_name": "Python 3",
   "language": "python",
   "name": "python3"
  },
  "language_info": {
   "codemirror_mode": {
    "name": "ipython",
    "version": 3
   },
   "file_extension": ".py",
   "mimetype": "text/x-python",
   "name": "python",
   "nbconvert_exporter": "python",
   "pygments_lexer": "ipython3",
   "version": "3.11.3"
  },
  "orig_nbformat": 4
 },
 "nbformat": 4,
 "nbformat_minor": 2
}
